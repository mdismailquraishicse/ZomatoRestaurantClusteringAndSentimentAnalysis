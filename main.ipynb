{
 "cells": [
  {
   "cell_type": "markdown",
   "id": "3647e2c3-9007-4c19-96fd-bf2a96531b21",
   "metadata": {},
   "source": [
    "# Zomato Restaurant Clustering And Sentiment Analysis project\n",
    "**By : Md Ismail Quraishi**"
   ]
  },
  {
   "cell_type": "markdown",
   "id": "4d10411a-4053-47b0-8682-5c650f75ba5f",
   "metadata": {},
   "source": [
    "### Problem Statement :\n",
    "The company wants to know what kind of product should be recommend to the different types of customers so that the company can target them for better profits."
   ]
  },
  {
   "cell_type": "markdown",
   "id": "95b3ac9f-5800-453c-8b9c-7bf25e221906",
   "metadata": {
    "jp-MarkdownHeadingCollapsed": true
   },
   "source": [
    "### Objectives :\n",
    "1. Firstly I will perform EDA on both the dataset to understand the datasets and get insights.\n",
    "2. Preprocessing the data\n",
    "3. Data transformation from words to tags\n",
    "4. Calculation of cosine similarity\n",
    "5. build a recommendation system."
   ]
  },
  {
   "cell_type": "markdown",
   "id": "88504073-f13c-4bc0-82ba-3df59d0a023a",
   "metadata": {},
   "source": [
    "## Let's Begin"
   ]
  },
  {
   "cell_type": "markdown",
   "id": "97832f89-7155-43c5-9881-e16bfa26d959",
   "metadata": {},
   "source": [
    "### Know your data"
   ]
  },
  {
   "cell_type": "code",
   "execution_count": 1,
   "id": "c7d2de2a-916d-47c1-9a0d-1a453342d39a",
   "metadata": {},
   "outputs": [],
   "source": [
    "# Libraries\n",
    "import numpy as np\n",
    "import pandas as pd\n",
    "import seaborn as sns\n",
    "import matplotlib.pyplot as plt\n",
    "import commonFunctions as cf\n",
    "import pickle\n",
    "from sklearn.feature_extraction.text import TfidfVectorizer\n",
    "from sklearn.metrics.pairwise import cosine_similarity\n",
    "from sklearn.cluster import KMeans\n",
    "import warnings\n",
    "warnings.filterwarnings('ignore')"
   ]
  },
  {
   "cell_type": "code",
   "execution_count": 2,
   "id": "dcef500a-7526-4d8e-b387-c582bbbcd0b0",
   "metadata": {},
   "outputs": [],
   "source": [
    "# load the datasets\n",
    "path_names = './preprocessed_data/eda_names.csv'\n",
    "path_reviews ='./preprocessed_data/enough_interaction.csv'\n",
    "names = pd.read_csv(path_names)\n",
    "interaction = pd.read_csv(path_reviews)"
   ]
  },
  {
   "cell_type": "code",
   "execution_count": 3,
   "id": "42f74490-fddf-476f-b9fc-074f4ab541b3",
   "metadata": {},
   "outputs": [
    {
     "data": {
      "text/html": [
       "<div>\n",
       "<style scoped>\n",
       "    .dataframe tbody tr th:only-of-type {\n",
       "        vertical-align: middle;\n",
       "    }\n",
       "\n",
       "    .dataframe tbody tr th {\n",
       "        vertical-align: top;\n",
       "    }\n",
       "\n",
       "    .dataframe thead th {\n",
       "        text-align: right;\n",
       "    }\n",
       "</style>\n",
       "<table border=\"1\" class=\"dataframe\">\n",
       "  <thead>\n",
       "    <tr style=\"text-align: right;\">\n",
       "      <th></th>\n",
       "      <th>Unnamed: 0</th>\n",
       "      <th>Name</th>\n",
       "      <th>Cost</th>\n",
       "      <th>Cuisines</th>\n",
       "      <th>tags</th>\n",
       "    </tr>\n",
       "  </thead>\n",
       "  <tbody>\n",
       "    <tr>\n",
       "      <th>0</th>\n",
       "      <td>0</td>\n",
       "      <td>Beyond Flavours</td>\n",
       "      <td>800</td>\n",
       "      <td>Chinese, Continental, Kebab, European, South I...</td>\n",
       "      <td>Beyond Flavours 800 Chinese, Continental, Keba...</td>\n",
       "    </tr>\n",
       "    <tr>\n",
       "      <th>1</th>\n",
       "      <td>1</td>\n",
       "      <td>Paradise</td>\n",
       "      <td>800</td>\n",
       "      <td>Biryani, North Indian, Chinese</td>\n",
       "      <td>Paradise 800 Biryani, North Indian, Chinese</td>\n",
       "    </tr>\n",
       "    <tr>\n",
       "      <th>2</th>\n",
       "      <td>2</td>\n",
       "      <td>Flechazo</td>\n",
       "      <td>1,300</td>\n",
       "      <td>Asian, Mediterranean, North Indian, Desserts</td>\n",
       "      <td>Flechazo 1,300 Asian, Mediterranean, North Ind...</td>\n",
       "    </tr>\n",
       "  </tbody>\n",
       "</table>\n",
       "</div>"
      ],
      "text/plain": [
       "   Unnamed: 0             Name   Cost  \\\n",
       "0           0  Beyond Flavours    800   \n",
       "1           1         Paradise    800   \n",
       "2           2         Flechazo  1,300   \n",
       "\n",
       "                                            Cuisines  \\\n",
       "0  Chinese, Continental, Kebab, European, South I...   \n",
       "1                     Biryani, North Indian, Chinese   \n",
       "2       Asian, Mediterranean, North Indian, Desserts   \n",
       "\n",
       "                                                tags  \n",
       "0  Beyond Flavours 800 Chinese, Continental, Keba...  \n",
       "1        Paradise 800 Biryani, North Indian, Chinese  \n",
       "2  Flechazo 1,300 Asian, Mediterranean, North Ind...  "
      ]
     },
     "execution_count": 3,
     "metadata": {},
     "output_type": "execute_result"
    }
   ],
   "source": [
    "names.head(3)"
   ]
  },
  {
   "cell_type": "code",
   "execution_count": 4,
   "id": "5c8dfa6c-7085-4fbd-9dac-312a4a3d3682",
   "metadata": {},
   "outputs": [
    {
     "data": {
      "text/html": [
       "<div>\n",
       "<style scoped>\n",
       "    .dataframe tbody tr th:only-of-type {\n",
       "        vertical-align: middle;\n",
       "    }\n",
       "\n",
       "    .dataframe tbody tr th {\n",
       "        vertical-align: top;\n",
       "    }\n",
       "\n",
       "    .dataframe thead th {\n",
       "        text-align: right;\n",
       "    }\n",
       "</style>\n",
       "<table border=\"1\" class=\"dataframe\">\n",
       "  <thead>\n",
       "    <tr style=\"text-align: right;\">\n",
       "      <th></th>\n",
       "      <th>Unnamed: 0</th>\n",
       "      <th>Restaurant</th>\n",
       "      <th>Reviewer</th>\n",
       "      <th>Rating</th>\n",
       "    </tr>\n",
       "  </thead>\n",
       "  <tbody>\n",
       "    <tr>\n",
       "      <th>0</th>\n",
       "      <td>73</td>\n",
       "      <td>Beyond Flavours</td>\n",
       "      <td>Saswati Kar Choudhury</td>\n",
       "      <td>3.0</td>\n",
       "    </tr>\n",
       "    <tr>\n",
       "      <th>1</th>\n",
       "      <td>99</td>\n",
       "      <td>Beyond Flavours</td>\n",
       "      <td>Aditya</td>\n",
       "      <td>4.0</td>\n",
       "    </tr>\n",
       "    <tr>\n",
       "      <th>2</th>\n",
       "      <td>160</td>\n",
       "      <td>Paradise</td>\n",
       "      <td>Sravani</td>\n",
       "      <td>5.0</td>\n",
       "    </tr>\n",
       "  </tbody>\n",
       "</table>\n",
       "</div>"
      ],
      "text/plain": [
       "   Unnamed: 0       Restaurant               Reviewer  Rating\n",
       "0          73  Beyond Flavours  Saswati Kar Choudhury     3.0\n",
       "1          99  Beyond Flavours                 Aditya     4.0\n",
       "2         160         Paradise                Sravani     5.0"
      ]
     },
     "execution_count": 4,
     "metadata": {},
     "output_type": "execute_result"
    }
   ],
   "source": [
    "interaction.head(3)"
   ]
  },
  {
   "cell_type": "code",
   "execution_count": 5,
   "id": "d871b66a-230a-4f7b-a92e-b664042960dc",
   "metadata": {},
   "outputs": [],
   "source": [
    "# Drop unnamed columns\n",
    "names.drop('Unnamed: 0',axis=1, inplace=True)\n",
    "interaction.drop('Unnamed: 0',axis=1, inplace=True)\n",
    "names.rename(columns={'Name':'Restaurant'}, inplace=True) # Rename the column so that datasets can be merged easily\n",
    "merged_df = pd.merge(interaction, names, on='Restaurant') # Data merging"
   ]
  },
  {
   "cell_type": "code",
   "execution_count": 6,
   "id": "dafd8310-3048-44d3-90ba-ad94d3f6373f",
   "metadata": {},
   "outputs": [
    {
     "name": "stdout",
     "output_type": "stream",
     "text": [
      "# of duplicated rows :  5\n"
     ]
    }
   ],
   "source": [
    "print('# of duplicated rows : ',merged_df.duplicated().sum())\n",
    "merged_df.drop_duplicates(inplace=True) # Drop duplicated rows"
   ]
  },
  {
   "cell_type": "code",
   "execution_count": 7,
   "id": "464f5c74-8f94-43fb-b38a-9c84026a2df0",
   "metadata": {},
   "outputs": [
    {
     "name": "stdout",
     "output_type": "stream",
     "text": [
      "shape :  (935, 6)\n",
      "\n",
      "# of duplicated rows :  0\n",
      "\n",
      "# of unique values in each column : \n",
      "Restaurant    100\n",
      "Reviewer      147\n",
      "Rating          8\n",
      "Cost           28\n",
      "Cuisines       89\n",
      "tags          100\n",
      "dtype: int64\n",
      "\n",
      "# of missing/nan values in each column : \n",
      "Restaurant    0\n",
      "Reviewer      0\n",
      "Rating        0\n",
      "Cost          0\n",
      "Cuisines      0\n",
      "tags          0\n",
      "dtype: int64\n",
      "\n",
      "Calling info method : \n",
      "<class 'pandas.core.frame.DataFrame'>\n",
      "Index: 935 entries, 0 to 939\n",
      "Data columns (total 6 columns):\n",
      " #   Column      Non-Null Count  Dtype  \n",
      "---  ------      --------------  -----  \n",
      " 0   Restaurant  935 non-null    object \n",
      " 1   Reviewer    935 non-null    object \n",
      " 2   Rating      935 non-null    float64\n",
      " 3   Cost        935 non-null    object \n",
      " 4   Cuisines    935 non-null    object \n",
      " 5   tags        935 non-null    object \n",
      "dtypes: float64(1), object(5)\n",
      "memory usage: 51.1+ KB\n",
      "None\n"
     ]
    }
   ],
   "source": [
    "cf.showInfo(merged_df) # This funciton is defined inside commonFunctions module"
   ]
  },
  {
   "cell_type": "markdown",
   "id": "b4c0c9c0-e8a8-48d7-a278-70eeeb878ab6",
   "metadata": {},
   "source": [
    "### Preprocessing"
   ]
  },
  {
   "cell_type": "code",
   "execution_count": 8,
   "id": "79255dd1-ffcd-4b44-9876-54a957b1abec",
   "metadata": {},
   "outputs": [
    {
     "name": "stdout",
     "output_type": "stream",
     "text": [
      "user similarity shape (147, 147)\n"
     ]
    }
   ],
   "source": [
    "# User based calcuclation\n",
    "user_based_pivot = interaction.pivot_table(index='Reviewer', columns='Restaurant', values='Rating').fillna(0) # Pivot table\n",
    "similarity_score_for_people = cosine_similarity(user_based_pivot) # similarity score calculation\n",
    "print('user similarity shape',similarity_score_for_people.shape)"
   ]
  },
  {
   "cell_type": "code",
   "execution_count": 9,
   "id": "cb40b561-fd1c-448a-86d8-e2bb1aff6311",
   "metadata": {},
   "outputs": [
    {
     "data": {
      "text/html": [
       "<div>\n",
       "<style scoped>\n",
       "    .dataframe tbody tr th:only-of-type {\n",
       "        vertical-align: middle;\n",
       "    }\n",
       "\n",
       "    .dataframe tbody tr th {\n",
       "        vertical-align: top;\n",
       "    }\n",
       "\n",
       "    .dataframe thead th {\n",
       "        text-align: right;\n",
       "    }\n",
       "</style>\n",
       "<table border=\"1\" class=\"dataframe\">\n",
       "  <thead>\n",
       "    <tr style=\"text-align: right;\">\n",
       "      <th>Restaurant</th>\n",
       "      <th>10 Downing Street</th>\n",
       "      <th>13 Dhaba</th>\n",
       "      <th>3B's - Buddies, Bar &amp; Barbecue</th>\n",
       "      <th>AB's - Absolute Barbecues</th>\n",
       "      <th>Absolute Sizzlers</th>\n",
       "      <th>Al Saba Restaurant</th>\n",
       "      <th>American Wild Wings</th>\n",
       "      <th>Amul</th>\n",
       "      <th>Arena Eleven</th>\n",
       "      <th>Aromas@11SIX</th>\n",
       "      <th>...</th>\n",
       "      <th>The Tilt Bar Republic</th>\n",
       "      <th>Tiki Shack</th>\n",
       "      <th>Triptify</th>\n",
       "      <th>Udipi's Upahar</th>\n",
       "      <th>Ulavacharu</th>\n",
       "      <th>Urban Asia - Kitchen &amp; Bar</th>\n",
       "      <th>Yum Yum Tree - The Arabian Food Court</th>\n",
       "      <th>Zega - Sheraton Hyderabad Hotel</th>\n",
       "      <th>Zing's Northeast Kitchen</th>\n",
       "      <th>eat.fit</th>\n",
       "    </tr>\n",
       "    <tr>\n",
       "      <th>Reviewer</th>\n",
       "      <th></th>\n",
       "      <th></th>\n",
       "      <th></th>\n",
       "      <th></th>\n",
       "      <th></th>\n",
       "      <th></th>\n",
       "      <th></th>\n",
       "      <th></th>\n",
       "      <th></th>\n",
       "      <th></th>\n",
       "      <th></th>\n",
       "      <th></th>\n",
       "      <th></th>\n",
       "      <th></th>\n",
       "      <th></th>\n",
       "      <th></th>\n",
       "      <th></th>\n",
       "      <th></th>\n",
       "      <th></th>\n",
       "      <th></th>\n",
       "      <th></th>\n",
       "    </tr>\n",
       "  </thead>\n",
       "  <tbody>\n",
       "    <tr>\n",
       "      <th>AJ</th>\n",
       "      <td>0.0</td>\n",
       "      <td>0.0</td>\n",
       "      <td>0.0</td>\n",
       "      <td>0.0</td>\n",
       "      <td>0.0</td>\n",
       "      <td>0.0</td>\n",
       "      <td>0.0</td>\n",
       "      <td>0.0</td>\n",
       "      <td>0.0</td>\n",
       "      <td>0.0</td>\n",
       "      <td>...</td>\n",
       "      <td>0.0</td>\n",
       "      <td>0.0</td>\n",
       "      <td>0.0</td>\n",
       "      <td>0.0</td>\n",
       "      <td>0.0</td>\n",
       "      <td>0.0</td>\n",
       "      <td>0.0</td>\n",
       "      <td>5.0</td>\n",
       "      <td>0.0</td>\n",
       "      <td>0.0</td>\n",
       "    </tr>\n",
       "    <tr>\n",
       "      <th>Aamir Nawaz</th>\n",
       "      <td>0.0</td>\n",
       "      <td>0.0</td>\n",
       "      <td>0.0</td>\n",
       "      <td>0.0</td>\n",
       "      <td>0.0</td>\n",
       "      <td>0.0</td>\n",
       "      <td>0.0</td>\n",
       "      <td>0.0</td>\n",
       "      <td>0.0</td>\n",
       "      <td>0.0</td>\n",
       "      <td>...</td>\n",
       "      <td>0.0</td>\n",
       "      <td>0.0</td>\n",
       "      <td>0.0</td>\n",
       "      <td>0.0</td>\n",
       "      <td>0.0</td>\n",
       "      <td>4.0</td>\n",
       "      <td>0.0</td>\n",
       "      <td>0.0</td>\n",
       "      <td>0.0</td>\n",
       "      <td>0.0</td>\n",
       "    </tr>\n",
       "    <tr>\n",
       "      <th>Aanchal Khemka</th>\n",
       "      <td>4.0</td>\n",
       "      <td>0.0</td>\n",
       "      <td>0.0</td>\n",
       "      <td>0.0</td>\n",
       "      <td>0.0</td>\n",
       "      <td>0.0</td>\n",
       "      <td>0.0</td>\n",
       "      <td>0.0</td>\n",
       "      <td>0.0</td>\n",
       "      <td>0.0</td>\n",
       "      <td>...</td>\n",
       "      <td>0.0</td>\n",
       "      <td>0.0</td>\n",
       "      <td>0.0</td>\n",
       "      <td>0.0</td>\n",
       "      <td>0.0</td>\n",
       "      <td>0.0</td>\n",
       "      <td>0.0</td>\n",
       "      <td>0.0</td>\n",
       "      <td>0.0</td>\n",
       "      <td>0.0</td>\n",
       "    </tr>\n",
       "  </tbody>\n",
       "</table>\n",
       "<p>3 rows × 100 columns</p>\n",
       "</div>"
      ],
      "text/plain": [
       "Restaurant      10 Downing Street  13 Dhaba  3B's - Buddies, Bar & Barbecue  \\\n",
       "Reviewer                                                                      \n",
       "AJ                            0.0       0.0                             0.0   \n",
       "Aamir Nawaz                   0.0       0.0                             0.0   \n",
       "Aanchal Khemka                4.0       0.0                             0.0   \n",
       "\n",
       "Restaurant      AB's - Absolute Barbecues  Absolute Sizzlers  \\\n",
       "Reviewer                                                       \n",
       "AJ                                    0.0                0.0   \n",
       "Aamir Nawaz                           0.0                0.0   \n",
       "Aanchal Khemka                        0.0                0.0   \n",
       "\n",
       "Restaurant      Al Saba Restaurant  American Wild Wings  Amul  Arena Eleven  \\\n",
       "Reviewer                                                                      \n",
       "AJ                             0.0                  0.0   0.0           0.0   \n",
       "Aamir Nawaz                    0.0                  0.0   0.0           0.0   \n",
       "Aanchal Khemka                 0.0                  0.0   0.0           0.0   \n",
       "\n",
       "Restaurant      Aromas@11SIX  ...  The Tilt Bar Republic  Tiki Shack  \\\n",
       "Reviewer                      ...                                      \n",
       "AJ                       0.0  ...                    0.0         0.0   \n",
       "Aamir Nawaz              0.0  ...                    0.0         0.0   \n",
       "Aanchal Khemka           0.0  ...                    0.0         0.0   \n",
       "\n",
       "Restaurant      Triptify  Udipi's Upahar  Ulavacharu  \\\n",
       "Reviewer                                               \n",
       "AJ                   0.0             0.0         0.0   \n",
       "Aamir Nawaz          0.0             0.0         0.0   \n",
       "Aanchal Khemka       0.0             0.0         0.0   \n",
       "\n",
       "Restaurant      Urban Asia - Kitchen & Bar  \\\n",
       "Reviewer                                     \n",
       "AJ                                     0.0   \n",
       "Aamir Nawaz                            4.0   \n",
       "Aanchal Khemka                         0.0   \n",
       "\n",
       "Restaurant      Yum Yum Tree - The Arabian Food Court  \\\n",
       "Reviewer                                                \n",
       "AJ                                                0.0   \n",
       "Aamir Nawaz                                       0.0   \n",
       "Aanchal Khemka                                    0.0   \n",
       "\n",
       "Restaurant      Zega - Sheraton Hyderabad Hotel  Zing's Northeast Kitchen  \\\n",
       "Reviewer                                                                    \n",
       "AJ                                          5.0                       0.0   \n",
       "Aamir Nawaz                                 0.0                       0.0   \n",
       "Aanchal Khemka                              0.0                       0.0   \n",
       "\n",
       "Restaurant      eat.fit  \n",
       "Reviewer                 \n",
       "AJ                  0.0  \n",
       "Aamir Nawaz         0.0  \n",
       "Aanchal Khemka      0.0  \n",
       "\n",
       "[3 rows x 100 columns]"
      ]
     },
     "execution_count": 9,
     "metadata": {},
     "output_type": "execute_result"
    }
   ],
   "source": [
    "user_based_pivot.head(3)"
   ]
  },
  {
   "cell_type": "code",
   "execution_count": 10,
   "id": "26b59f72-00c6-4b94-b194-03c2ba89af15",
   "metadata": {},
   "outputs": [],
   "source": [
    "# Building recomendation system\n",
    "def similar_user_recommendation(user_name, top_n):\n",
    "    index = user_based_pivot.index.get_loc(user_name)\n",
    "    similar_people = sorted(list(enumerate(similarity_score_for_people[index])),key=lambda x:x[1],reverse=True)[1:top_n+1]\n",
    "    recommendations = []\n",
    "    for i in similar_people:\n",
    "        recommendations.append(user_based_pivot.index[i[0]])\n",
    "    return recommendations"
   ]
  },
  {
   "cell_type": "code",
   "execution_count": 11,
   "id": "e3180865-bf86-44aa-aa2d-6f57a29598fa",
   "metadata": {},
   "outputs": [
    {
     "data": {
      "text/plain": [
       "['Prachita Jayaswal',\n",
       " 'The Foodie Bookworm',\n",
       " 'Rahul Gupta',\n",
       " 'Subhashree Dey',\n",
       " 'Charushila Biswas',\n",
       " 'Shreshth Malhotra',\n",
       " 'Raj Rohit',\n",
       " 'Sree Leela',\n",
       " 'Avin Seth',\n",
       " 'Surya']"
      ]
     },
     "execution_count": 11,
     "metadata": {},
     "output_type": "execute_result"
    }
   ],
   "source": [
    "similar_user_recommendation('AJ',10) # Making prediction"
   ]
  },
  {
   "cell_type": "code",
   "execution_count": null,
   "id": "590e389c-6baa-42cb-9c3d-e75914659989",
   "metadata": {},
   "outputs": [],
   "source": []
  }
 ],
 "metadata": {
  "kernelspec": {
   "display_name": "Python 3 (ipykernel)",
   "language": "python",
   "name": "python3"
  },
  "language_info": {
   "codemirror_mode": {
    "name": "ipython",
    "version": 3
   },
   "file_extension": ".py",
   "mimetype": "text/x-python",
   "name": "python",
   "nbconvert_exporter": "python",
   "pygments_lexer": "ipython3",
   "version": "3.11.7"
  }
 },
 "nbformat": 4,
 "nbformat_minor": 5
}
