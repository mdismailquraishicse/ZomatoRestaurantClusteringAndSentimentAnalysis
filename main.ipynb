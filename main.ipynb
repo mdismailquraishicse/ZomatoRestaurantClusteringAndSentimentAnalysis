{
 "cells": [
  {
   "cell_type": "markdown",
   "id": "3647e2c3-9007-4c19-96fd-bf2a96531b21",
   "metadata": {},
   "source": [
    "# Zomato Restaurant Clustering And Sentiment Analysis project\n",
    "**By : Md Ismail Quraishi**"
   ]
  },
  {
   "cell_type": "markdown",
   "id": "4d10411a-4053-47b0-8682-5c650f75ba5f",
   "metadata": {},
   "source": [
    "### Problem Statement :\n",
    "The company wants to know what kind of product should be recommend to the different types of customers so that the company can target them for better profits."
   ]
  },
  {
   "cell_type": "markdown",
   "id": "95b3ac9f-5800-453c-8b9c-7bf25e221906",
   "metadata": {
    "jp-MarkdownHeadingCollapsed": true
   },
   "source": [
    "### Objectives :\n",
    "1. Firstly I will perform EDA on both the dataset to understand the datasets and get insights.\n",
    "2. Preprocessing the data\n",
    "3. Data transformation from words to tags\n",
    "4. Calculation of cosine similarity\n",
    "5. build a recommendation system."
   ]
  },
  {
   "cell_type": "markdown",
   "id": "88504073-f13c-4bc0-82ba-3df59d0a023a",
   "metadata": {},
   "source": [
    "## Let's Begin"
   ]
  },
  {
   "cell_type": "markdown",
   "id": "97832f89-7155-43c5-9881-e16bfa26d959",
   "metadata": {},
   "source": [
    "### Know your data"
   ]
  },
  {
   "cell_type": "code",
   "execution_count": 1,
   "id": "c7d2de2a-916d-47c1-9a0d-1a453342d39a",
   "metadata": {},
   "outputs": [],
   "source": [
    "# Libraries\n",
    "import numpy as np\n",
    "import pandas as pd\n",
    "import seaborn as sns\n",
    "import matplotlib.pyplot as plt\n",
    "import commonFunctions as cf\n",
    "import pickle\n",
    "from sklearn.feature_extraction.text import TfidfVectorizer\n",
    "from sklearn.metrics.pairwise import cosine_similarity\n",
    "from sklearn.cluster import KMeans\n",
    "import warnings\n",
    "warnings.filterwarnings('ignore')"
   ]
  },
  {
   "cell_type": "code",
   "execution_count": 2,
   "id": "dcef500a-7526-4d8e-b387-c582bbbcd0b0",
   "metadata": {},
   "outputs": [],
   "source": [
    "# load the datasets\n",
    "path_names = './preprocessed_data/restaurant.csv'\n",
    "path_reviews ='./preprocessed_data/enough_interaction.csv'\n",
    "names = pd.read_csv(path_names)\n",
    "interaction = pd.read_csv(path_reviews)"
   ]
  },
  {
   "cell_type": "code",
   "execution_count": 3,
   "id": "42f74490-fddf-476f-b9fc-074f4ab541b3",
   "metadata": {},
   "outputs": [
    {
     "data": {
      "text/html": [
       "<div>\n",
       "<style scoped>\n",
       "    .dataframe tbody tr th:only-of-type {\n",
       "        vertical-align: middle;\n",
       "    }\n",
       "\n",
       "    .dataframe tbody tr th {\n",
       "        vertical-align: top;\n",
       "    }\n",
       "\n",
       "    .dataframe thead th {\n",
       "        text-align: right;\n",
       "    }\n",
       "</style>\n",
       "<table border=\"1\" class=\"dataframe\">\n",
       "  <thead>\n",
       "    <tr style=\"text-align: right;\">\n",
       "      <th></th>\n",
       "      <th>Unnamed: 0</th>\n",
       "      <th>Name</th>\n",
       "      <th>Cost</th>\n",
       "      <th>Cuisines</th>\n",
       "    </tr>\n",
       "  </thead>\n",
       "  <tbody>\n",
       "    <tr>\n",
       "      <th>0</th>\n",
       "      <td>0</td>\n",
       "      <td>Beyond Flavours</td>\n",
       "      <td>800</td>\n",
       "      <td>Chinese, Continental, Kebab, European, South I...</td>\n",
       "    </tr>\n",
       "    <tr>\n",
       "      <th>1</th>\n",
       "      <td>1</td>\n",
       "      <td>Paradise</td>\n",
       "      <td>800</td>\n",
       "      <td>Biryani, North Indian, Chinese</td>\n",
       "    </tr>\n",
       "    <tr>\n",
       "      <th>2</th>\n",
       "      <td>2</td>\n",
       "      <td>Flechazo</td>\n",
       "      <td>1,300</td>\n",
       "      <td>Asian, Mediterranean, North Indian, Desserts</td>\n",
       "    </tr>\n",
       "  </tbody>\n",
       "</table>\n",
       "</div>"
      ],
      "text/plain": [
       "   Unnamed: 0             Name   Cost  \\\n",
       "0           0  Beyond Flavours    800   \n",
       "1           1         Paradise    800   \n",
       "2           2         Flechazo  1,300   \n",
       "\n",
       "                                            Cuisines  \n",
       "0  Chinese, Continental, Kebab, European, South I...  \n",
       "1                     Biryani, North Indian, Chinese  \n",
       "2       Asian, Mediterranean, North Indian, Desserts  "
      ]
     },
     "execution_count": 3,
     "metadata": {},
     "output_type": "execute_result"
    }
   ],
   "source": [
    "names.head(3)"
   ]
  },
  {
   "cell_type": "code",
   "execution_count": 4,
   "id": "5c8dfa6c-7085-4fbd-9dac-312a4a3d3682",
   "metadata": {},
   "outputs": [
    {
     "data": {
      "text/html": [
       "<div>\n",
       "<style scoped>\n",
       "    .dataframe tbody tr th:only-of-type {\n",
       "        vertical-align: middle;\n",
       "    }\n",
       "\n",
       "    .dataframe tbody tr th {\n",
       "        vertical-align: top;\n",
       "    }\n",
       "\n",
       "    .dataframe thead th {\n",
       "        text-align: right;\n",
       "    }\n",
       "</style>\n",
       "<table border=\"1\" class=\"dataframe\">\n",
       "  <thead>\n",
       "    <tr style=\"text-align: right;\">\n",
       "      <th></th>\n",
       "      <th>Unnamed: 0</th>\n",
       "      <th>Restaurant</th>\n",
       "      <th>Reviewer</th>\n",
       "      <th>Rating</th>\n",
       "    </tr>\n",
       "  </thead>\n",
       "  <tbody>\n",
       "    <tr>\n",
       "      <th>0</th>\n",
       "      <td>73</td>\n",
       "      <td>Beyond Flavours</td>\n",
       "      <td>Saswati Kar Choudhury</td>\n",
       "      <td>3.0</td>\n",
       "    </tr>\n",
       "    <tr>\n",
       "      <th>1</th>\n",
       "      <td>99</td>\n",
       "      <td>Beyond Flavours</td>\n",
       "      <td>Aditya</td>\n",
       "      <td>4.0</td>\n",
       "    </tr>\n",
       "    <tr>\n",
       "      <th>2</th>\n",
       "      <td>160</td>\n",
       "      <td>Paradise</td>\n",
       "      <td>Sravani</td>\n",
       "      <td>5.0</td>\n",
       "    </tr>\n",
       "  </tbody>\n",
       "</table>\n",
       "</div>"
      ],
      "text/plain": [
       "   Unnamed: 0       Restaurant               Reviewer  Rating\n",
       "0          73  Beyond Flavours  Saswati Kar Choudhury     3.0\n",
       "1          99  Beyond Flavours                 Aditya     4.0\n",
       "2         160         Paradise                Sravani     5.0"
      ]
     },
     "execution_count": 4,
     "metadata": {},
     "output_type": "execute_result"
    }
   ],
   "source": [
    "interaction.head(3)"
   ]
  },
  {
   "cell_type": "code",
   "execution_count": 5,
   "id": "d871b66a-230a-4f7b-a92e-b664042960dc",
   "metadata": {},
   "outputs": [],
   "source": [
    "# Drop unnamed columns\n",
    "names.drop('Unnamed: 0',axis=1, inplace=True)\n",
    "interaction.drop('Unnamed: 0',axis=1, inplace=True)\n",
    "names.rename(columns={'Name':'Restaurant'}, inplace=True) # Rename the column so that datasets can be merged easily\n",
    "merged_df = pd.merge(interaction, names, on='Restaurant') # Data merging"
   ]
  },
  {
   "cell_type": "code",
   "execution_count": 6,
   "id": "dafd8310-3048-44d3-90ba-ad94d3f6373f",
   "metadata": {},
   "outputs": [
    {
     "name": "stdout",
     "output_type": "stream",
     "text": [
      "# of duplicated rows :  5\n"
     ]
    }
   ],
   "source": [
    "print('# of duplicated rows : ',merged_df.duplicated().sum())\n",
    "merged_df.drop_duplicates(inplace=True) # Drop duplicated rows"
   ]
  },
  {
   "cell_type": "code",
   "execution_count": 7,
   "id": "464f5c74-8f94-43fb-b38a-9c84026a2df0",
   "metadata": {},
   "outputs": [
    {
     "name": "stdout",
     "output_type": "stream",
     "text": [
      "shape :  (935, 5)\n",
      "\n",
      "# of duplicated rows :  0\n",
      "\n",
      "# of unique values in each column : \n",
      "Restaurant    100\n",
      "Reviewer      147\n",
      "Rating          8\n",
      "Cost           28\n",
      "Cuisines       89\n",
      "dtype: int64\n",
      "\n",
      "# of missing/nan values in each column : \n",
      "Restaurant    0\n",
      "Reviewer      0\n",
      "Rating        0\n",
      "Cost          0\n",
      "Cuisines      0\n",
      "dtype: int64\n",
      "\n",
      "Calling info method : \n",
      "<class 'pandas.core.frame.DataFrame'>\n",
      "Index: 935 entries, 0 to 939\n",
      "Data columns (total 5 columns):\n",
      " #   Column      Non-Null Count  Dtype  \n",
      "---  ------      --------------  -----  \n",
      " 0   Restaurant  935 non-null    object \n",
      " 1   Reviewer    935 non-null    object \n",
      " 2   Rating      935 non-null    float64\n",
      " 3   Cost        935 non-null    object \n",
      " 4   Cuisines    935 non-null    object \n",
      "dtypes: float64(1), object(4)\n",
      "memory usage: 43.8+ KB\n",
      "None\n"
     ]
    }
   ],
   "source": [
    "cf.showInfo(merged_df) # This funciton is defined inside commonFunctions module"
   ]
  },
  {
   "cell_type": "markdown",
   "id": "b4c0c9c0-e8a8-48d7-a278-70eeeb878ab6",
   "metadata": {},
   "source": [
    "### Preprocessing and recommendation system building for user based"
   ]
  },
  {
   "cell_type": "code",
   "execution_count": 8,
   "id": "79255dd1-ffcd-4b44-9876-54a957b1abec",
   "metadata": {},
   "outputs": [],
   "source": [
    "# User based calcuclation\n",
    "# user_based_pivot = interaction.pivot_table(index='Reviewer', columns='Restaurant', values='Rating').fillna(0) # Pivot table\n",
    "# similarity_score_for_people = cosine_similarity(user_based_pivot) # similarity score calculation\n",
    "# print('user similarity shape',similarity_score_for_people.shape)"
   ]
  },
  {
   "cell_type": "code",
   "execution_count": 9,
   "id": "26b59f72-00c6-4b94-b194-03c2ba89af15",
   "metadata": {},
   "outputs": [],
   "source": [
    "# Building users based recommendatioin system\n",
    "def recommend_similar_user(user_name, top_n):\n",
    "    user_based_pivot = interaction.pivot_table(index='Reviewer', columns='Restaurant', values='Rating').fillna(0) # Pivot table\n",
    "    similarity_score_for_people = cosine_similarity(user_based_pivot) # similarity score calculation\n",
    "    index = user_based_pivot.index.get_loc(user_name)\n",
    "    similar_people = sorted(list(enumerate(similarity_score_for_people[index])),key=lambda x:x[1],reverse=True)[1:top_n+1]\n",
    "    recommendations = []\n",
    "    pickle.dump(user_based_pivot,open('./pickle/userbasedpvt.pkl','wb'))\n",
    "    pickle.dump(similarity_score_for_people,open('./pickle/sim_scor_for_ppl.pkl','wb'))\n",
    "    for i in similar_people:\n",
    "        recommendations.append(user_based_pivot.index[i[0]])\n",
    "    return recommendations"
   ]
  },
  {
   "cell_type": "markdown",
   "id": "4e71dbf2-ad60-4034-b6ec-f80744ec6534",
   "metadata": {},
   "source": [
    "### Preprocessing and recommendation system building for restaurant based"
   ]
  },
  {
   "cell_type": "code",
   "execution_count": 10,
   "id": "3e7dc64e-cde2-4282-8e23-af5d7c5c6627",
   "metadata": {},
   "outputs": [],
   "source": [
    "def str_merge(string_):\n",
    "    result = [s.lower() for s in string_.split()]\n",
    "    return ''.join(result)\n",
    "    \n",
    "names['name'] = names['Restaurant'].apply(str_merge)\n",
    "names['tags'] = names['name']+' '+names['Cuisines']"
   ]
  },
  {
   "cell_type": "code",
   "execution_count": 11,
   "id": "eb235af7-27ac-422c-b345-174977d983af",
   "metadata": {},
   "outputs": [],
   "source": [
    "# Textual data preprocessing\n",
    "def textualt_preprocessing(df, col):\n",
    "    df[col] = df[col].apply(cf.remove_punctuations)\n",
    "    df[col] = df[col].apply(cf.lower_casing)\n",
    "    df[col] = df[col].apply(cf.stemming)\n",
    "    df[col] = df[col].apply(cf.remove_numeric)\n",
    "    return df\n",
    "\n",
    "preprocessed_restaurant_df = textualt_preprocessing(names.copy(),'tags')[['Restaurant', 'tags']] # calling the above function"
   ]
  },
  {
   "cell_type": "code",
   "execution_count": 12,
   "id": "f90c8d6c-bf4d-4233-b17b-c8dc64482ec6",
   "metadata": {},
   "outputs": [],
   "source": [
    "# Word vectorizations\n",
    "tfidf = TfidfVectorizer(stop_words='english', ngram_range=(1,2))\n",
    "vectors = tfidf.fit_transform(preprocessed_restaurant_df['tags']).toarray()\n",
    "vocabulary = tfidf.vocabulary_"
   ]
  },
  {
   "cell_type": "code",
   "execution_count": 13,
   "id": "fcfa1888-67fa-42fb-b890-2f6d3d6c177b",
   "metadata": {},
   "outputs": [],
   "source": [
    "vector_df = pd.DataFrame(vectors, index=names['Restaurant'], columns=tfidf.get_feature_names_out())\n",
    "restaurant_similarity_scores = cosine_similarity(vectors)\n",
    "restaurant_similarity_scores.shape\n",
    "pickle.dump(vector_df,open('./pickle/vector.pkl','wb'))\n",
    "pickle.dump(restaurant_similarity_scores,open('./pickle/res_sim_scor.pkl','wb'))"
   ]
  },
  {
   "cell_type": "code",
   "execution_count": 14,
   "id": "a044bbeb-e8a0-4fa9-842d-6e462511411b",
   "metadata": {},
   "outputs": [],
   "source": [
    "# Restaurant based recommendation system\n",
    "def recommend_similar_restaurants(restaurant_name, topn):\n",
    "    result = []\n",
    "    index = vector_df.index.get_loc(restaurant_name) # Retriving index no. for the given restaurant\n",
    "    indices = restaurant_similarity_scores[index].argsort()[-topn-1:-1] # sorting the array based on scores\n",
    "    for i in indices[::-1]: # Iterating through each index\n",
    "        result.append(vector_df.index[i])\n",
    "    return result"
   ]
  },
  {
   "cell_type": "code",
   "execution_count": 15,
   "id": "f90ace0a-aa39-4164-9325-6f57cc7193cc",
   "metadata": {},
   "outputs": [
    {
     "name": "stdout",
     "output_type": "stream",
     "text": [
      "Hunger Maggi Point : ['Fast Food']\n",
      "Club Rogue : ['North Indian, Fast Food']\n",
      "Sardarji's Chaats & More : ['Street Food, North Indian, Fast Food']\n",
      "KFC : ['Burger, Fast Food']\n",
      "IndiBlaze : ['Fast Food, Salad']\n",
      "Shree Santosh Dhaba Family Restaurant : ['North Indian, Chinese, Fast Food']\n",
      "Domino's Pizza : ['Fast Food, Pizza']\n",
      "KS Bakers : ['Bakery, Desserts, Fast Food']\n",
      "Karachi Cafe : ['Cafe, Desserts, Fast Food']\n",
      "Faasos : ['Fast Food, Biryani, Desserts']\n"
     ]
    }
   ],
   "source": [
    "result = recommend_similar_restaurants(\"Wich Please\",10)\n",
    "for i in result:\n",
    "    print(f\"{i} : {list(names[names['Restaurant']==i]['Cuisines'])}\")"
   ]
  },
  {
   "cell_type": "code",
   "execution_count": 16,
   "id": "b87ef519-13f6-40a2-852c-391d64eac3a8",
   "metadata": {},
   "outputs": [],
   "source": [
    "def recommend_restaurant_to_user(user_name, min_rating,n_user, n_restaurant):\n",
    "    restaurant_name= set(interaction[(interaction['Reviewer'] == user_name) & (interaction['Rating']>=min_rating)].\n",
    "                        sort_values(by='Rating', ascending=False).head(n_restaurant)['Restaurant'])# fetch restaurant names using user-name\n",
    "    all_restaurants = set(vector_df.index)\n",
    "    restaurant_name = all_restaurants.intersection(restaurant_name)\n",
    "    restaurant_names =[]\n",
    "    for i in restaurant_name:\n",
    "        restaurant_names.append(recommend_similar_restaurants(i, n_restaurant))\n",
    "    similar_users = recommend_similar_user(user_name,5)\n",
    "    return similar_users,set(np.array(restaurant_names).flatten())"
   ]
  },
  {
   "cell_type": "code",
   "execution_count": 17,
   "id": "0346f429-7d89-46d4-944b-946e68e57368",
   "metadata": {},
   "outputs": [],
   "source": [
    "users ,restaurants = recommend_restaurant_to_user('Sravani',1,5,5)"
   ]
  },
  {
   "cell_type": "code",
   "execution_count": 18,
   "id": "aca0a61f-7a9f-481f-8eab-d769f3ebfbd1",
   "metadata": {},
   "outputs": [
    {
     "data": {
      "text/plain": [
       "['Yum Yum YUMMY !',\n",
       " 'Manoj Gurrevala',\n",
       " 'Riz & Shanky',\n",
       " 'Farhad Tarapore',\n",
       " 'Vijay']"
      ]
     },
     "execution_count": 18,
     "metadata": {},
     "output_type": "execute_result"
    }
   ],
   "source": [
    "users"
   ]
  },
  {
   "cell_type": "code",
   "execution_count": 19,
   "id": "331ce77e-4f25-41b8-8878-93b525b45063",
   "metadata": {},
   "outputs": [
    {
     "data": {
      "text/plain": [
       "{'Amul',\n",
       " 'Banana Leaf Multicuisine Restaurant',\n",
       " 'Being Hungry',\n",
       " 'Beyond Flavours',\n",
       " 'Delhi-39',\n",
       " 'Deli 9 Bistro',\n",
       " 'Desi Bytes',\n",
       " 'Driven Cafe',\n",
       " \"Dunkin' Donuts\",\n",
       " 'Eat India Company',\n",
       " 'Green Bawarchi Restaurant',\n",
       " 'Hitech Bawarchi Food Zone',\n",
       " 'Labonel',\n",
       " 'Mathura Vilas',\n",
       " 'Olive Garden',\n",
       " 'Pakwaan Grand',\n",
       " 'Royal Spicy Restaurant',\n",
       " 'Shah Ghouse Hotel & Restaurant',\n",
       " 'Tempteys',\n",
       " 'The Chocolate Room',\n",
       " \"Udipi's Upahar\"}"
      ]
     },
     "execution_count": 19,
     "metadata": {},
     "output_type": "execute_result"
    }
   ],
   "source": [
    "restaurants"
   ]
  },
  {
   "cell_type": "code",
   "execution_count": null,
   "id": "84835754-362d-41d3-bc13-ac1c0a943df1",
   "metadata": {},
   "outputs": [],
   "source": []
  }
 ],
 "metadata": {
  "kernelspec": {
   "display_name": "Python 3 (ipykernel)",
   "language": "python",
   "name": "python3"
  },
  "language_info": {
   "codemirror_mode": {
    "name": "ipython",
    "version": 3
   },
   "file_extension": ".py",
   "mimetype": "text/x-python",
   "name": "python",
   "nbconvert_exporter": "python",
   "pygments_lexer": "ipython3",
   "version": "3.11.7"
  }
 },
 "nbformat": 4,
 "nbformat_minor": 5
}
