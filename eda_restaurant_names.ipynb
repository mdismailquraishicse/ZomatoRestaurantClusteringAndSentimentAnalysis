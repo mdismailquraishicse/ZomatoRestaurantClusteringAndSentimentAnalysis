{
 "cells": [
  {
   "cell_type": "markdown",
   "id": "8d1cc06e-6897-457f-bf59-063be20e258a",
   "metadata": {},
   "source": [
    "# EDA : Zomato Restaurant name and Metadata\n",
    "***Contributor : Md Ismail Quraishi***"
   ]
  },
  {
   "cell_type": "markdown",
   "id": "4d8113ed-f367-402f-91fa-283e033e87b1",
   "metadata": {
    "jp-MarkdownHeadingCollapsed": true
   },
   "source": [
    "### Problem statement\n",
    "Perform EDA on Zomato Restaurant name and Metadata.csv file and get insights about the data so that these data can be used intelligently for recommendation system."
   ]
  },
  {
   "cell_type": "markdown",
   "id": "19cc7bbb-706e-42d5-86a6-f12ae168f40d",
   "metadata": {},
   "source": [
    "#### Data details :\n",
    "1. Name : Name of the restaurants\n",
    "2. Links : Website link of the restaurant\n",
    "3. Cost : Cost of the items/foods\n",
    "4. Collections : Types of the items/foods\n",
    "5. Cuisines : varieties of the items/foods\n",
    "6. Timings : Restaurant opening and closing timings."
   ]
  },
  {
   "cell_type": "markdown",
   "id": "08c7bd0d-ea6e-45ef-8bed-7fee218d8b93",
   "metadata": {},
   "source": [
    "### Know your data"
   ]
  },
  {
   "cell_type": "code",
   "execution_count": 1,
   "id": "53722ba5-5a61-4d54-b231-52d689ef5066",
   "metadata": {},
   "outputs": [],
   "source": [
    "# Libraries\n",
    "import numpy as np\n",
    "import pandas as pd\n",
    "import seaborn as sns\n",
    "import matplotlib.pyplot as plt\n",
    "import commonFunctions"
   ]
  },
  {
   "cell_type": "code",
   "execution_count": 2,
   "id": "2d5ee79b-30cd-4441-84f6-02a3d840052c",
   "metadata": {},
   "outputs": [],
   "source": [
    "# Data loading\n",
    "path= './data/Zomato Restaurant names and Metadata.csv'\n",
    "restaurant_meta_data = pd.read_csv(path)"
   ]
  },
  {
   "cell_type": "code",
   "execution_count": 3,
   "id": "831cd8d1-0c47-4d97-b534-32ea407b6a52",
   "metadata": {},
   "outputs": [
    {
     "data": {
      "text/html": [
       "<div>\n",
       "<style scoped>\n",
       "    .dataframe tbody tr th:only-of-type {\n",
       "        vertical-align: middle;\n",
       "    }\n",
       "\n",
       "    .dataframe tbody tr th {\n",
       "        vertical-align: top;\n",
       "    }\n",
       "\n",
       "    .dataframe thead th {\n",
       "        text-align: right;\n",
       "    }\n",
       "</style>\n",
       "<table border=\"1\" class=\"dataframe\">\n",
       "  <thead>\n",
       "    <tr style=\"text-align: right;\">\n",
       "      <th></th>\n",
       "      <th>Name</th>\n",
       "      <th>Links</th>\n",
       "      <th>Cost</th>\n",
       "      <th>Collections</th>\n",
       "      <th>Cuisines</th>\n",
       "      <th>Timings</th>\n",
       "    </tr>\n",
       "  </thead>\n",
       "  <tbody>\n",
       "    <tr>\n",
       "      <th>0</th>\n",
       "      <td>Beyond Flavours</td>\n",
       "      <td>https://www.zomato.com/hyderabad/beyond-flavou...</td>\n",
       "      <td>800</td>\n",
       "      <td>Food Hygiene Rated Restaurants in Hyderabad, C...</td>\n",
       "      <td>Chinese, Continental, Kebab, European, South I...</td>\n",
       "      <td>12noon to 3:30pm, 6:30pm to 11:30pm (Mon-Sun)</td>\n",
       "    </tr>\n",
       "    <tr>\n",
       "      <th>1</th>\n",
       "      <td>Paradise</td>\n",
       "      <td>https://www.zomato.com/hyderabad/paradise-gach...</td>\n",
       "      <td>800</td>\n",
       "      <td>Hyderabad's Hottest</td>\n",
       "      <td>Biryani, North Indian, Chinese</td>\n",
       "      <td>11 AM to 11 PM</td>\n",
       "    </tr>\n",
       "    <tr>\n",
       "      <th>2</th>\n",
       "      <td>Flechazo</td>\n",
       "      <td>https://www.zomato.com/hyderabad/flechazo-gach...</td>\n",
       "      <td>1,300</td>\n",
       "      <td>Great Buffets, Hyderabad's Hottest</td>\n",
       "      <td>Asian, Mediterranean, North Indian, Desserts</td>\n",
       "      <td>11:30 AM to 4:30 PM, 6:30 PM to 11 PM</td>\n",
       "    </tr>\n",
       "    <tr>\n",
       "      <th>3</th>\n",
       "      <td>Shah Ghouse Hotel &amp; Restaurant</td>\n",
       "      <td>https://www.zomato.com/hyderabad/shah-ghouse-h...</td>\n",
       "      <td>800</td>\n",
       "      <td>Late Night Restaurants</td>\n",
       "      <td>Biryani, North Indian, Chinese, Seafood, Bever...</td>\n",
       "      <td>12 Noon to 2 AM</td>\n",
       "    </tr>\n",
       "    <tr>\n",
       "      <th>4</th>\n",
       "      <td>Over The Moon Brew Company</td>\n",
       "      <td>https://www.zomato.com/hyderabad/over-the-moon...</td>\n",
       "      <td>1,200</td>\n",
       "      <td>Best Bars &amp; Pubs, Food Hygiene Rated Restauran...</td>\n",
       "      <td>Asian, Continental, North Indian, Chinese, Med...</td>\n",
       "      <td>12noon to 11pm (Mon, Tue, Wed, Thu, Sun), 12no...</td>\n",
       "    </tr>\n",
       "  </tbody>\n",
       "</table>\n",
       "</div>"
      ],
      "text/plain": [
       "                             Name  \\\n",
       "0                 Beyond Flavours   \n",
       "1                        Paradise   \n",
       "2                        Flechazo   \n",
       "3  Shah Ghouse Hotel & Restaurant   \n",
       "4      Over The Moon Brew Company   \n",
       "\n",
       "                                               Links   Cost  \\\n",
       "0  https://www.zomato.com/hyderabad/beyond-flavou...    800   \n",
       "1  https://www.zomato.com/hyderabad/paradise-gach...    800   \n",
       "2  https://www.zomato.com/hyderabad/flechazo-gach...  1,300   \n",
       "3  https://www.zomato.com/hyderabad/shah-ghouse-h...    800   \n",
       "4  https://www.zomato.com/hyderabad/over-the-moon...  1,200   \n",
       "\n",
       "                                         Collections  \\\n",
       "0  Food Hygiene Rated Restaurants in Hyderabad, C...   \n",
       "1                                Hyderabad's Hottest   \n",
       "2                 Great Buffets, Hyderabad's Hottest   \n",
       "3                             Late Night Restaurants   \n",
       "4  Best Bars & Pubs, Food Hygiene Rated Restauran...   \n",
       "\n",
       "                                            Cuisines  \\\n",
       "0  Chinese, Continental, Kebab, European, South I...   \n",
       "1                     Biryani, North Indian, Chinese   \n",
       "2       Asian, Mediterranean, North Indian, Desserts   \n",
       "3  Biryani, North Indian, Chinese, Seafood, Bever...   \n",
       "4  Asian, Continental, North Indian, Chinese, Med...   \n",
       "\n",
       "                                             Timings  \n",
       "0      12noon to 3:30pm, 6:30pm to 11:30pm (Mon-Sun)  \n",
       "1                                     11 AM to 11 PM  \n",
       "2              11:30 AM to 4:30 PM, 6:30 PM to 11 PM  \n",
       "3                                    12 Noon to 2 AM  \n",
       "4  12noon to 11pm (Mon, Tue, Wed, Thu, Sun), 12no...  "
      ]
     },
     "execution_count": 3,
     "metadata": {},
     "output_type": "execute_result"
    }
   ],
   "source": [
    "# First view\n",
    "restaurant_meta_data.head()"
   ]
  },
  {
   "cell_type": "code",
   "execution_count": 4,
   "id": "bca04bf3-4b8e-465e-9b9a-d7f1a1f31bbd",
   "metadata": {},
   "outputs": [
    {
     "name": "stdout",
     "output_type": "stream",
     "text": [
      "shape :  (105, 6)\n",
      "\n",
      "# of duplicated rows :  0\n",
      "\n",
      "# of unique values in each column : \n",
      "Name           105\n",
      "Links          105\n",
      "Cost            29\n",
      "Collections     42\n",
      "Cuisines        92\n",
      "Timings         77\n",
      "dtype: int64\n",
      "\n",
      "# of missing/nan values in each column : \n",
      "Name            0\n",
      "Links           0\n",
      "Cost            0\n",
      "Collections    54\n",
      "Cuisines        0\n",
      "Timings         1\n",
      "dtype: int64\n",
      "\n",
      "Calling info method : \n",
      "<class 'pandas.core.frame.DataFrame'>\n",
      "RangeIndex: 105 entries, 0 to 104\n",
      "Data columns (total 6 columns):\n",
      " #   Column       Non-Null Count  Dtype \n",
      "---  ------       --------------  ----- \n",
      " 0   Name         105 non-null    object\n",
      " 1   Links        105 non-null    object\n",
      " 2   Cost         105 non-null    object\n",
      " 3   Collections  51 non-null     object\n",
      " 4   Cuisines     105 non-null    object\n",
      " 5   Timings      104 non-null    object\n",
      "dtypes: object(6)\n",
      "memory usage: 5.1+ KB\n",
      "None\n"
     ]
    }
   ],
   "source": [
    "# Diplays shape, # of duplicated, # of unique values, # of nan values, info of the dataframe.\n",
    "commonFunctions.showInfo(restaurant_meta_data) # This function is defined inside commonFunctions.py file"
   ]
  },
  {
   "cell_type": "code",
   "execution_count": 5,
   "id": "4e869136-117b-4771-8253-094e98506f8f",
   "metadata": {},
   "outputs": [
    {
     "data": {
      "text/html": [
       "<div>\n",
       "<style scoped>\n",
       "    .dataframe tbody tr th:only-of-type {\n",
       "        vertical-align: middle;\n",
       "    }\n",
       "\n",
       "    .dataframe tbody tr th {\n",
       "        vertical-align: top;\n",
       "    }\n",
       "\n",
       "    .dataframe thead th {\n",
       "        text-align: right;\n",
       "    }\n",
       "</style>\n",
       "<table border=\"1\" class=\"dataframe\">\n",
       "  <thead>\n",
       "    <tr style=\"text-align: right;\">\n",
       "      <th></th>\n",
       "      <th>Name</th>\n",
       "      <th>Links</th>\n",
       "      <th>Cost</th>\n",
       "      <th>Collections</th>\n",
       "      <th>Cuisines</th>\n",
       "      <th>Timings</th>\n",
       "    </tr>\n",
       "  </thead>\n",
       "  <tbody>\n",
       "    <tr>\n",
       "      <th>count</th>\n",
       "      <td>105</td>\n",
       "      <td>105</td>\n",
       "      <td>105</td>\n",
       "      <td>51</td>\n",
       "      <td>105</td>\n",
       "      <td>104</td>\n",
       "    </tr>\n",
       "    <tr>\n",
       "      <th>unique</th>\n",
       "      <td>105</td>\n",
       "      <td>105</td>\n",
       "      <td>29</td>\n",
       "      <td>42</td>\n",
       "      <td>92</td>\n",
       "      <td>77</td>\n",
       "    </tr>\n",
       "    <tr>\n",
       "      <th>top</th>\n",
       "      <td>Beyond Flavours</td>\n",
       "      <td>https://www.zomato.com/hyderabad/beyond-flavou...</td>\n",
       "      <td>500</td>\n",
       "      <td>Food Hygiene Rated Restaurants in Hyderabad</td>\n",
       "      <td>North Indian, Chinese</td>\n",
       "      <td>11 AM to 11 PM</td>\n",
       "    </tr>\n",
       "    <tr>\n",
       "      <th>freq</th>\n",
       "      <td>1</td>\n",
       "      <td>1</td>\n",
       "      <td>13</td>\n",
       "      <td>4</td>\n",
       "      <td>4</td>\n",
       "      <td>6</td>\n",
       "    </tr>\n",
       "  </tbody>\n",
       "</table>\n",
       "</div>"
      ],
      "text/plain": [
       "                   Name                                              Links  \\\n",
       "count               105                                                105   \n",
       "unique              105                                                105   \n",
       "top     Beyond Flavours  https://www.zomato.com/hyderabad/beyond-flavou...   \n",
       "freq                  1                                                  1   \n",
       "\n",
       "       Cost                                  Collections  \\\n",
       "count   105                                           51   \n",
       "unique   29                                           42   \n",
       "top     500  Food Hygiene Rated Restaurants in Hyderabad   \n",
       "freq     13                                            4   \n",
       "\n",
       "                     Cuisines         Timings  \n",
       "count                     105             104  \n",
       "unique                     92              77  \n",
       "top     North Indian, Chinese  11 AM to 11 PM  \n",
       "freq                        4               6  "
      ]
     },
     "execution_count": 5,
     "metadata": {},
     "output_type": "execute_result"
    }
   ],
   "source": [
    "# Describe\n",
    "restaurant_meta_data.describe()"
   ]
  },
  {
   "cell_type": "code",
   "execution_count": 6,
   "id": "4d21c265-492d-44fd-832a-2defadc1406a",
   "metadata": {},
   "outputs": [
    {
     "data": {
      "text/plain": [
       "array(['800', '1,300', '1,200', '1,500', '500', '300', '1,000', '350',\n",
       "       '400', '1,600', '750', '550', '1,900', '450', '150', '1,400',\n",
       "       '1,100', '600', '200', '900', '700', '1,700', '2,500', '850',\n",
       "       '650', '1,800', '2,800', '1,750', '250'], dtype=object)"
      ]
     },
     "execution_count": 6,
     "metadata": {},
     "output_type": "execute_result"
    }
   ],
   "source": [
    "# Unique values in Cost column\n",
    "restaurant_meta_data['Cost'].unique()"
   ]
  },
  {
   "cell_type": "code",
   "execution_count": 7,
   "id": "20ee92a6-f003-497e-9b1c-7003af3b62e9",
   "metadata": {},
   "outputs": [
    {
     "data": {
      "text/plain": [
       "array(['Food Hygiene Rated Restaurants in Hyderabad, Corporate Favorites, Great Buffets, Top-Rated, Gold Curated, Live Sports Screenings',\n",
       "       \"Hyderabad's Hottest\", \"Great Buffets, Hyderabad's Hottest\",\n",
       "       'Late Night Restaurants',\n",
       "       \"Best Bars & Pubs, Food Hygiene Rated Restaurants in Hyderabad, Top-Rated, Gold Curated, Hyderabad's Hottest\",\n",
       "       \"Sunday Brunches, Corporate Favorites, Great Buffets, Hyderabad's Hottest, Food Hygiene Rated Restaurants in Hyderabad, Top-Rated, Gold Curated\",\n",
       "       'Food Hygiene Rated Restaurants in Hyderabad', nan,\n",
       "       'Great Buffets, Live Sports Screenings, Best Bars & Pubs, Trending This Week',\n",
       "       'Frozen Delights', 'Street Food, Veggie Friendly, Pocket Friendly',\n",
       "       'Barbecue & Grill', 'Great Buffets',\n",
       "       'Corporate Favorites, Happy Hours, Live Sports Screenings, Rooftops, Trending This Week',\n",
       "       \"Barbecue & Grill, Great Buffets, Corporate Favorites, Hyderabad's Hottest\",\n",
       "       'Trending This Week', 'Veggie Friendly',\n",
       "       'Great Italian, Sunday Brunches',\n",
       "       'Live Sports Screenings, Gigs and Events',\n",
       "       'Rooftops, Live Sports Screenings, Best Bars & Pubs',\n",
       "       'Barbecue & Grill, Live Sports Screenings', 'Haleem',\n",
       "       'Mandi, Great Buffets, The ‘Must Visit’ Eateries',\n",
       "       'Top-Rated, Gold Curated, Fancy and Fun', 'Fancy and Fun',\n",
       "       'Great Breakfasts, Late Night Restaurants, Best shawarmas',\n",
       "       'Great Buffets, Trending This Week',\n",
       "       'Function Venues, Regional Favorites', 'Pan-Asian Delicacies',\n",
       "       'Veggie Friendly, Terrific Thalis',\n",
       "       'Great Buffets, Live Sports Screenings', 'Sneak Peek Hyderabad',\n",
       "       'Sunday Brunches, Great Breakfasts, Function Venues, Ramzan Mubarak',\n",
       "       'Best Milkshakes',\n",
       "       'Happy Hours, Top Drinking Destinations, Corporate Favorites',\n",
       "       'Sneak Peek Hyderabad, Best Bars & Pubs, Gigs and Events',\n",
       "       'Happy Hours, Top-Rated, Gold Curated',\n",
       "       'Gigs and Events, Corporate Favorites',\n",
       "       \"Food Hygiene Rated Restaurants in Hyderabad, Great Buffets, Hyderabad's Hottest\",\n",
       "       'Best Bakeries', 'New on Gold', 'Brilliant Biryanis',\n",
       "       'Sunday Brunches'], dtype=object)"
      ]
     },
     "execution_count": 7,
     "metadata": {},
     "output_type": "execute_result"
    }
   ],
   "source": [
    "# Unique values in Collections column\n",
    "restaurant_meta_data['Collections'].unique()"
   ]
  },
  {
   "cell_type": "markdown",
   "id": "266827c7-752b-4eff-b25d-a5b1e2b13e0e",
   "metadata": {},
   "source": [
    "#### What do you know about your data :\n",
    "1. shape : 105,6\n",
    "2. no. of duplicated rows : 0\n",
    "3. no. of unique values : Name - 105, Links - 105, Cost - 25, Collections - 42, Cuisines - 92, Timings - 77\n",
    "4. no. of missing/nan values : Collections - 54, Timings - 1\n",
    "5. About 50% values in Collections are missing/nan.\n",
    "6. Top Collections by count : Food Hygiene Rated Restaurants in Hyderabad.\n",
    "7. Top Cuisine by count : North Indian, Chinese."
   ]
  },
  {
   "cell_type": "markdown",
   "id": "d0ca84f8-4399-4ba6-82bb-149ff7ac6a5b",
   "metadata": {},
   "source": [
    "### EDA"
   ]
  },
  {
   "cell_type": "code",
   "execution_count": null,
   "id": "615c9d2a-1139-47bc-a3d2-0c2430eba6b3",
   "metadata": {},
   "outputs": [],
   "source": []
  }
 ],
 "metadata": {
  "kernelspec": {
   "display_name": "Python 3 (ipykernel)",
   "language": "python",
   "name": "python3"
  },
  "language_info": {
   "codemirror_mode": {
    "name": "ipython",
    "version": 3
   },
   "file_extension": ".py",
   "mimetype": "text/x-python",
   "name": "python",
   "nbconvert_exporter": "python",
   "pygments_lexer": "ipython3",
   "version": "3.11.7"
  }
 },
 "nbformat": 4,
 "nbformat_minor": 5
}
